{
 "cells": [
  {
   "cell_type": "code",
   "execution_count": null,
   "metadata": {},
   "outputs": [],
   "source": [
    "# First, let's print a welcome message\n",
    "print(\"Welcome to this Jupyter Notebook!\")\n",
    "\n",
    "# Let's define a function to add two numbers\n",
    "def add_numbers(a, b):\n",
    "    return a + b\n",
    "\n",
    "# Let's define a function to subtract two numbers\n",
    "def sub_numbers(a, b):\n",
    "    return a - b\n",
    "\n",
    "# Now let's use the function to add two numbers\n",
    "result = add_numbers(5, 7)\n",
    "print(\"The result of adding 5 and 7 is:\", result)\n",
    "\n",
    "# Let's create a list of fruits\n",
    "fruits = [\"apple\", \"banana\", \"orange\", \"kiwi\", \"grape\"]\n",
    "\n",
    "# Print each fruit in the list\n",
    "print(\"List of fruits:\")\n",
    "for fruit in fruits:\n",
    "    print(fruit)\n",
    "\n",
    "# Now let's calculate the length of the list\n",
    "num_fruits = len(fruits)\n",
    "print(\"Number of fruits in the list:\", num_fruits)\n",
    "\n",
    "# Now let's subtract two numbers\n",
    "result = sub_numbers(10, 2)\n",
    "print(\"The result of subtract 2 from 10 is:\", result)\n"
   ]
  }
 ],
 "metadata": {
  "language_info": {
   "name": "python"
  }
 },
 "nbformat": 4,
 "nbformat_minor": 2
}
