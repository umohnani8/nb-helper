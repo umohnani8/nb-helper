{
 "cells": [
  {
   "cell_type": "code",
   "execution_count": null,
   "metadata": {},
   "outputs": [],
   "source": [
    "# First, let's print a welcome message\n",
    "print(\"Welcome to this Jupyter Notebook!\")\n",
    "\n",
    "# Let's define a function to add two numbers\n",
    "def add_numbers(a, b):\n",
    "    return a + b\n",
    "\n",
    "# Let's define a function to subtract two numbers\n",
    "def sub_numbers(a, b):\n",
    "    return a - b\n",
    "\n",
    "# Now let's use the function to add two numbers\n",
    "result = add_numbers(5, 7)\n",
    "print(\"The result of adding 5 and 7 is:\", result)\n",
    "\n",
    "# Let's create a list of fruits\n",
    "fruits = [\"apple\", \"banana\", \"orange\", \"kiwi\", \"grape\"]\n",
    "\n",
    "# Print each fruit in the list\n",
    "print(\"List of fruits:\")\n",
    "for fruit in fruits:\n",
    "    print(fruit)\n",
    "\n",
    "# Now let's calculate the length of the list\n",
    "num_fruits = len(fruits)\n",
    "print(\"Number of fruits in the list:\", num_fruits)\n",
    "\n",
    "# Now let's subtract two numbers\n",
    "result = sub_numbers(10, 2)\n",
    "print(\"The result of subtract 2 from 10 is:\", result)\n",
    "\n",
    "# Let's create a list of colours in the rainbow\n",
    "colours = [\"red\", \"orange\", \"yellow\", \"green\", \"blue\", \"indigo\", \"violet\"]\n",
    "\n",
    "# Print each colour in the list\n",
    "print(\"Colours in a Rainbow:\")\n",
    "for colour in colours:\n",
    "    print(colour)\n",
    "\n",
    "# Now let's calculate number of colours\n",
    "num_colours = len(colours)\n",
    "print(\"The number of colours in a Rainbow:\", num_colours)\n"
   ]
  }
 ],
 "metadata": {
  "language_info": {
   "name": "python"
  }
 },
 "nbformat": 4,
 "nbformat_minor": 2
}
