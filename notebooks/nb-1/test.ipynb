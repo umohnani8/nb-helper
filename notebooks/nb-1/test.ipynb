{
 "cells": [
  {
   "cell_type": "code",
   "execution_count": null,
   "metadata": {},
   "outputs": [],
   "source": [
    "\n",
    "# First, let's print a welcome message\n",
    "print(\"Welcome to this Jupyter Notebook!\")\n",
    "\n",
    "# Let's define a function to add two numbers\n",
    "def add_numbers(a, b):\n",
    "    return a + b\n",
    "\n",
    "# Now let's use the function to add two numbers\n",
    "result = add_numbers(5, 7)\n",
    "print(\"The result of adding 5 and 7 is:\", result)\n",
    "\n",
    "# Let's create a list of fruits\n",
    "fruits = [\"apple\", \"banana\", \"orange\", \"kiwi\", \"grape\"]\n",
    "\n",
    "# Print each fruit in the list\n",
    "print(\"List of fruits:\")\n",
    "for fruit in fruits:\n",
    "    print(fruit)\n",
    "\n",
    "# Now let's calculate the length of the list\n",
    "num_fruits = len(fruits)\n",
    "print(\"Number of fruits in the list:\", num_fruits)\n"
   ]
  },
  {
   "cell_type": "code",
   "execution_count": null,
   "metadata": {},
   "outputs": [],
   "source": []
  }
 ],
 "metadata": {
  "language_info": {
   "name": "python"
  }
 },
 "nbformat": 4,
 "nbformat_minor": 2
}
